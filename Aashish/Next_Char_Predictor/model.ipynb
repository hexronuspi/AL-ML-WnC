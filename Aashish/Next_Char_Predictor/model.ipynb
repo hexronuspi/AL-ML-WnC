{
 "cells": [
  {
   "cell_type": "code",
   "execution_count": 20,
   "metadata": {},
   "outputs": [],
   "source": [
    "import tensorflow as tf\n",
    "from tensorflow import keras\n",
    "from tensorflow.keras.preprocessing.text import Tokenizer\n",
    "from tensorflow.keras.preprocessing.sequence import pad_sequences\n",
    "import numpy as np"
   ]
  },
  {
   "cell_type": "code",
   "execution_count": 2,
   "metadata": {},
   "outputs": [],
   "source": [
    "path = \"https://raw.githubusercontent.com/TirendazAcademy/Deep-Learning-with-TensorFlow/main/Data/tinyshakespeare.txt\"\n",
    "filepath = keras.utils.get_file(\"shakespeare.txt\", path)\n",
    "with open(filepath) as f:\n",
    "    text = f.read()\n"
   ]
  },
  {
   "cell_type": "code",
   "execution_count": 16,
   "metadata": {},
   "outputs": [],
   "source": [
    "tokenizer=Tokenizer(char_level=True)\n",
    "tokenizer.fit_on_texts(text)\n",
    "sequences=tokenizer.texts_to_sequences([text])[0]\n",
    "padded_sequences=pad_sequences([sequences],maxlen=100,padding=\"post\")"
   ]
  },
  {
   "cell_type": "code",
   "execution_count": 17,
   "metadata": {},
   "outputs": [],
   "source": [
    "length=100\n",
    "seq_length=len(sequences)\n",
    "train_size = int(0.8 * seq_length)\n",
    "valid_size = int(0.1 * seq_length)\n",
    "test_size = seq_length - train_size - valid_size\n",
    "\n",
    "train_sequences = sequences[:train_size]\n",
    "valid_sequences = sequences[train_size:train_size+valid_size]\n",
    "test_sequences = sequences[train_size+valid_size:]\n"
   ]
  },
  {
   "cell_type": "code",
   "execution_count": 18,
   "metadata": {},
   "outputs": [],
   "source": [
    "def create_dataset(sequences, length):\n",
    "    X = []\n",
    "    y = []\n",
    "    for i in range(len(sequences) - length):\n",
    "        X.append(sequences[i:i+length])\n",
    "        y.append(sequences[i+length])\n",
    "    return tf.data.Dataset.from_tensor_slices((np.array(X), np.array(y)))\n"
   ]
  },
  {
   "cell_type": "code",
   "execution_count": 21,
   "metadata": {},
   "outputs": [],
   "source": [
    "train_set = create_dataset(train_sequences, length)\n",
    "valid_set = create_dataset(valid_sequences, length)\n",
    "test_set = create_dataset(test_sequences, length)\n",
    "train_set = train_set.shuffle(10000).batch(64)\n",
    "valid_set = valid_set.batch(64)\n",
    "test_set = test_set.batch(64)"
   ]
  },
  {
   "cell_type": "code",
   "execution_count": 22,
   "metadata": {},
   "outputs": [],
   "source": [
    "model=keras.models.Sequential([\n",
    "    keras.layers.Embedding(input_dim=len(tokenizer.word_index)+2,output_dim=20),\n",
    "    keras.layers.LSTM(128),\n",
    "    keras.layers.Dense(len(tokenizer.word_index)+2,activation=\"softmax\")\n",
    "])\n",
    "model.compile(loss=\"sparse_categorical_crossentropy\",optimizer=\"adam\",metrics=[\"accuracy\"])"
   ]
  },
  {
   "cell_type": "code",
   "execution_count": 23,
   "metadata": {},
   "outputs": [
    {
     "name": "stdout",
     "output_type": "stream",
     "text": [
      "\u001b[1m13941/13941\u001b[0m \u001b[32m━━━━━━━━━━━━━━━━━━━━\u001b[0m\u001b[37m\u001b[0m \u001b[1m1117s\u001b[0m 80ms/step - accuracy: 0.3898 - loss: 2.1100 - val_accuracy: 0.4905 - val_loss: 1.7034\n"
     ]
    },
    {
     "data": {
      "text/plain": [
       "<keras.src.callbacks.history.History at 0x2c70703db80>"
      ]
     },
     "execution_count": 23,
     "metadata": {},
     "output_type": "execute_result"
    }
   ],
   "source": [
    "model.fit(train_set,epochs=1,validation_data=valid_set)"
   ]
  },
  {
   "cell_type": "code",
   "execution_count": 24,
   "metadata": {},
   "outputs": [
    {
     "name": "stdout",
     "output_type": "stream",
     "text": [
      "\u001b[1m1742/1742\u001b[0m \u001b[32m━━━━━━━━━━━━━━━━━━━━\u001b[0m\u001b[37m\u001b[0m \u001b[1m32s\u001b[0m 19ms/step - accuracy: 0.4542 - loss: 1.8560\n",
      "Total_Accuracy: 45.38585841655731 %\n"
     ]
    }
   ],
   "source": [
    "test_loss, test_acc = model.evaluate(test_set)\n",
    "print(\"Total_Accuracy:\",(test_acc*100),\"%\")"
   ]
  }
 ],
 "metadata": {
  "kernelspec": {
   "display_name": "Python 3",
   "language": "python",
   "name": "python3"
  },
  "language_info": {
   "codemirror_mode": {
    "name": "ipython",
    "version": 3
   },
   "file_extension": ".py",
   "mimetype": "text/x-python",
   "name": "python",
   "nbconvert_exporter": "python",
   "pygments_lexer": "ipython3",
   "version": "3.12.4"
  }
 },
 "nbformat": 4,
 "nbformat_minor": 2
}
